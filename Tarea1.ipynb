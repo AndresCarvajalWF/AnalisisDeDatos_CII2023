{
  "nbformat": 4,
  "nbformat_minor": 0,
  "metadata": {
    "colab": {
      "provenance": [],
      "include_colab_link": true
    },
    "kernelspec": {
      "name": "python3",
      "display_name": "Python 3"
    },
    "language_info": {
      "name": "python"
    }
  },
  "cells": [
    {
      "cell_type": "markdown",
      "metadata": {
        "id": "view-in-github",
        "colab_type": "text"
      },
      "source": [
        "<a href=\"https://colab.research.google.com/github/AndresCarvajalWF/AnalisisDeDatos_CII2023/blob/main/Tarea1.ipynb\" target=\"_parent\"><img src=\"https://colab.research.google.com/assets/colab-badge.svg\" alt=\"Open In Colab\"/></a>"
      ]
    },
    {
      "cell_type": "code",
      "execution_count": null,
      "metadata": {
        "id": "o9YkB724gyfl"
      },
      "outputs": [],
      "source": [
        "print(\"Ejercicio Año Bisiesto\")\n",
        "anno=int(input(\"Ingrese el año: \"))\n",
        "if(anno%400==0)or(anno%44==0)and(anno%100!=0):\n",
        "  print(\"El año es bisiesto\")\n",
        "else:\n",
        "  print(\"El año no es bisiesto\")"
      ]
    },
    {
      "cell_type": "code",
      "source": [
        "print(\"Ejercicio Meses del Año\")\n",
        "switcher={1: \"Enero\", 2: \"Febrero\", 3: \"Marzo\", 4: \"Abril\", 5: \"Mayo\", 6: \"Junio\", 7: \"Julio\", 8: \"Agosto\", 9: \"Septiembre\", 10: \"Octubre\", 11: \"Noviembre\", 12: \"Diciembre\"}\n",
        "argument=int(input(\"Ingrese el número referente al mes: \"))\n",
        "mesAnno=switcher.get(argument, \"Mes inválido\")\n",
        "print(mesAnno)"
      ],
      "metadata": {
        "id": "ZIqTjvPrhy7g"
      },
      "execution_count": null,
      "outputs": []
    },
    {
      "cell_type": "code",
      "source": [
        "print(\"Ejercicio Problema #1\")\n",
        "capitalC=-1\n",
        "interesI=0\n",
        "annosM=0\n",
        "while(capitalC<0)or(interesI>=100)or(annosM<=0):\n",
        "  print(\"Introduce el capital, interés y el tiempo apropiados:\")\n",
        "  capitalC=int(input(\"Ingrese la capital: \"))\n",
        "  interesI=int(input(\"Ingrese el interés: \"))\n",
        "  annosM=int(input(\"Ingrese la cantidad de años: \"))\n",
        "for interesI in range(annosM):\n",
        "  capitalC=capitalC*(1+interesI/100)\n",
        "  print(\"Monto: \",capitalC,\" colones.\")"
      ],
      "metadata": {
        "id": "afsx2C5LjCSc"
      },
      "execution_count": null,
      "outputs": []
    },
    {
      "cell_type": "code",
      "source": [
        "print(\"Ejercicio Suma\")\n",
        "numero=int(input(\"Digite un número: \"))\n",
        "\n",
        "while numero>0:\n",
        "  suma=0\n",
        "  for i in range(1,numero+1):\n",
        "    if(numero%i==0):\n",
        "      suma=suma+i\n",
        "  print(suma)\n",
        "  numero=int(input(\"Digite un número: \"))"
      ],
      "metadata": {
        "id": "BtvZT4eGlfsZ"
      },
      "execution_count": null,
      "outputs": []
    }
  ]
}